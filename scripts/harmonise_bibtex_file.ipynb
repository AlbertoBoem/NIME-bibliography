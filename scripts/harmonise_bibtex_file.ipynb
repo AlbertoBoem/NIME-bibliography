{
 "cells": [
  {
   "cell_type": "markdown",
   "metadata": {},
   "source": [
    "# Harmonise Bibtex File\n",
    "\n",
    "This script simply opens and closes a bibtex file in order to alphebetise the ordering of keys and and make sure that it is valid (implicitly I guess--not doing any particular checking, but if the input is broken the bibtexparser will not be happy and the output is most likely to be valid)."
   ]
  },
  {
   "cell_type": "code",
   "execution_count": null,
   "metadata": {},
   "outputs": [],
   "source": [
    "import glob\n",
    "import bibtexparser\n",
    "import pandas as pd\n",
    "\n",
    "nime_year = \"2020\"\n",
    "\n",
    "from bibtexparser.bwriter import BibTexWriter\n",
    "field_order = (\"author\",\"title\",\"pages\",\"booktitle\",\"editor\",\"year\",\"month\",\"publisher\",\"address\",\"issn\",\"url\",\"presentation-video\", \"abstract\")\n",
    "writer = BibTexWriter()\n",
    "writer.indent = \"\t\"\n",
    "writer.display_order = field_order\n",
    "\n",
    "# Load the 2020 bib file and create correct PDF URLs\n",
    "nime_file = f\"../paper_proceedings/nime{nime_year}.bib\"\n",
    "\n",
    "print(f\"Going to load: {nime_file}, is this ok?\")"
   ]
  },
  {
   "cell_type": "code",
   "execution_count": null,
   "metadata": {},
   "outputs": [],
   "source": [
    "with open(nime_file) as bibtex_file:\n",
    "    bib_database = bibtexparser.bparser.BibTexParser(common_strings=True).parse_file(bibtex_file)"
   ]
  },
  {
   "cell_type": "code",
   "execution_count": null,
   "metadata": {},
   "outputs": [],
   "source": [
    "# Write back to the bibtex file\n",
    "with open(nime_file, 'w') as bibtex_file:\n",
    "    bibtex_file.write(writer.write(bib_database))"
   ]
  }
 ],
 "metadata": {
  "kernelspec": {
   "display_name": "Python 3",
   "language": "python",
   "name": "python3"
  },
  "language_info": {
   "codemirror_mode": {
    "name": "ipython",
    "version": 3
   },
   "file_extension": ".py",
   "mimetype": "text/x-python",
   "name": "python",
   "nbconvert_exporter": "python",
   "pygments_lexer": "ipython3",
   "version": "3.8.5"
  }
 },
 "nbformat": 4,
 "nbformat_minor": 4
}
