{
 "cells": [
  {
   "cell_type": "code",
   "execution_count": null,
   "metadata": {},
   "outputs": [],
   "source": [
    "import glob\n",
    "import bibtexparser\n",
    "import pandas as pd"
   ]
  },
  {
   "cell_type": "code",
   "execution_count": null,
   "metadata": {},
   "outputs": [],
   "source": [
    "bibfiles = []\n",
    "bibdatabases = {}\n",
    "for file in glob.glob(\"*.bib\"):\n",
    "    bibfiles.append(file)\n",
    "\n",
    "id_to_doi_dfs = []\n",
    "\n",
    "for bf in bibfiles:\n",
    "    print(bf)\n",
    "    with open(bf) as bibtex_file:\n",
    "        bib_database = bibtexparser.bparser.BibTexParser(common_strings=True).parse_file(bibtex_file)\n",
    "    bibdatabases[bf] = bib_database\n",
    "    id_to_doi = {}    \n",
    "    for e in bib_database.entries:\n",
    "        try:\n",
    "            if e['doi'] is not None:\n",
    "                id_to_doi[e['ID']] = e['doi']\n",
    "        except:\n",
    "            print(\"No DOI for:\", e['ID'])\n",
    "    #     id_to_doi = {e['ID']:e['doi'] for e in bib_database.entries}\n",
    "    id_to_doi_df = pd.DataFrame.from_dict(id_to_doi, orient='index', columns=['doi'])\n",
    "    id_to_doi_df['ID'] = id_to_doi_df.index\n",
    "    id_to_doi_df.to_csv(bf[:-4]+\".csv\", index=False)\n",
    "    id_to_doi_dfs.append(id_to_doi_df)\n",
    "    \n",
    "id_to_doi_df = pd.concat(id_to_doi_dfs)"
   ]
  },
  {
   "cell_type": "code",
   "execution_count": null,
   "metadata": {},
   "outputs": [],
   "source": [
    "                         "
   ]
  },
  {
   "cell_type": "code",
   "execution_count": null,
   "metadata": {},
   "outputs": [],
   "source": [
    "id_to_doi_df"
   ]
  },
  {
   "cell_type": "code",
   "execution_count": null,
   "metadata": {},
   "outputs": [],
   "source": [
    "\n",
    "# with open('nime_papers.bib') as bibtex_file:\n",
    "#     bib_database = bibtexparser.load(bibtex_file)\n",
    "\n",
    "# id to doi dict\n",
    "id_to_doi = {e['ID']:e['doi'] for e in bib_database.entries}\n",
    "\n",
    "id_to_doi_df = pd.DataFrame.from_dict(id_to_doi, orient='index')"
   ]
  }
 ],
 "metadata": {
  "kernelspec": {
   "display_name": "Python 3",
   "language": "python",
   "name": "python3"
  },
  "language_info": {
   "codemirror_mode": {
    "name": "ipython",
    "version": 3
   },
   "file_extension": ".py",
   "mimetype": "text/x-python",
   "name": "python",
   "nbconvert_exporter": "python",
   "pygments_lexer": "ipython3",
   "version": "3.8.5"
  }
 },
 "nbformat": 4,
 "nbformat_minor": 4
}
